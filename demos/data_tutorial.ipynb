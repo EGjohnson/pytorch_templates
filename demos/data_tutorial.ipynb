{
  "cells": [
    {
      "cell_type": "code",
      "execution_count": 2,
      "metadata": {
        "collapsed": false
      },
      "outputs": [],
      "source": [
        "%matplotlib inline"
      ]
    },
    {
      "cell_type": "markdown",
      "metadata": {},
      "source": [
        "\n",
        "`Learn the Basics <intro.html>`_ ||\n",
        "`Quickstart <quickstart_tutorial.html>`_ || \n",
        "`Tensors <tensorqs_tutorial.html>`_ ||\n",
        "**Datasets & DataLoaders** ||\n",
        "`Transforms <transforms_tutorial.html>`_ ||\n",
        "`Build Model <buildmodel_tutorial.html>`_ ||\n",
        "`Autograd <autogradqs_tutorial.html>`_ ||\n",
        "`Optimization <optimization_tutorial.html>`_ ||\n",
        "`Save & Load Model <saveloadrun_tutorial.html>`_\n",
        "\n",
        "Datasets & Dataloaders\n",
        "===================\n",
        "\n",
        "\n"
      ]
    },
    {
      "cell_type": "markdown",
      "metadata": {},
      "source": [
        "Code for processing data samples can get messy and hard to maintain; we ideally want our dataset code\n",
        "to be decoupled from our model training code for better readability and modularity.\n",
        "PyTorch provides two data primitives: ``torch.utils.data.DataLoader`` and ``torch.utils.data.Dataset``\n",
        "that allow you to use pre-loaded datasets as well as your own data.\n",
        "``Dataset`` stores the samples and their corresponding labels, and ``DataLoader`` wraps an iterable around\n",
        "the ``Dataset`` to enable easy access to the samples.\n",
        "\n",
        "PyTorch domain libraries provide a number of pre-loaded datasets (such as FashionMNIST) that \n",
        "subclass ``torch.utils.data.Dataset`` and implement functions specific to the particular data.\n",
        "They can be used to prototype and benchmark your model. You can find them\n",
        "here: `Image Datasets <https://pytorch.org/vision/stable/datasets.html>`_,\n",
        "`Text Datasets  <https://pytorch.org/text/stable/datasets.html>`_, and\n",
        "`Audio Datasets <https://pytorch.org/audio/stable/datasets.html>`_\n",
        "\n",
        "\n"
      ]
    },
    {
      "cell_type": "markdown",
      "metadata": {},
      "source": [
        "Loading a Dataset\n",
        "-------------------\n",
        "\n",
        "Here is an example of how to load the `Fashion-MNIST <https://research.zalando.com/welcome/mission/research-projects/fashion-mnist/>`_ dataset from TorchVision.\n",
        "Fashion-MNIST is a dataset of Zalando’s article images consisting of of 60,000 training examples and 10,000 test examples.\n",
        "Each example comprises a 28×28 grayscale image and an associated label from one of 10 classes.\n",
        "\n",
        "We load the `FashionMNIST Dataset <https://pytorch.org/vision/stable/datasets.html#fashion-mnist>`_ with the following parameters:\n",
        " - ``root`` is the path where the train/test data is stored,\n",
        " - ``train`` specifies training or test dataset,\n",
        " - ``download=True`` downloads the data from the internet if it's not available at ``root``.\n",
        " - ``transform`` and ``target_transform`` specify the feature and label transformations\n",
        "\n"
      ]
    },
    {
      "cell_type": "code",
      "execution_count": 3,
      "metadata": {
        "collapsed": false
      },
      "outputs": [
        {
          "name": "stdout",
          "output_type": "stream",
          "text": [
            "Downloading http://fashion-mnist.s3-website.eu-central-1.amazonaws.com/train-images-idx3-ubyte.gz\n",
            "Downloading http://fashion-mnist.s3-website.eu-central-1.amazonaws.com/train-images-idx3-ubyte.gz to data/FashionMNIST/raw/train-images-idx3-ubyte.gz\n",
            "26422272it [00:06, 3930647.61it/s]                              \n",
            "Extracting data/FashionMNIST/raw/train-images-idx3-ubyte.gz to data/FashionMNIST/raw\n",
            "\n",
            "Downloading http://fashion-mnist.s3-website.eu-central-1.amazonaws.com/train-labels-idx1-ubyte.gz\n",
            "Downloading http://fashion-mnist.s3-website.eu-central-1.amazonaws.com/train-labels-idx1-ubyte.gz to data/FashionMNIST/raw/train-labels-idx1-ubyte.gz\n",
            "29696it [00:00, 255658.06it/s]                           \n",
            "Extracting data/FashionMNIST/raw/train-labels-idx1-ubyte.gz to data/FashionMNIST/raw\n",
            "\n",
            "Downloading http://fashion-mnist.s3-website.eu-central-1.amazonaws.com/t10k-images-idx3-ubyte.gz\n",
            "Downloading http://fashion-mnist.s3-website.eu-central-1.amazonaws.com/t10k-images-idx3-ubyte.gz to data/FashionMNIST/raw/t10k-images-idx3-ubyte.gz\n",
            "4422656it [00:01, 2496423.08it/s]                             \n",
            "Extracting data/FashionMNIST/raw/t10k-images-idx3-ubyte.gz to data/FashionMNIST/raw\n",
            "\n",
            "Downloading http://fashion-mnist.s3-website.eu-central-1.amazonaws.com/t10k-labels-idx1-ubyte.gz\n",
            "Downloading http://fashion-mnist.s3-website.eu-central-1.amazonaws.com/t10k-labels-idx1-ubyte.gz to data/FashionMNIST/raw/t10k-labels-idx1-ubyte.gz\n",
            "6144it [00:00, 9239800.57it/s]          Extracting data/FashionMNIST/raw/t10k-labels-idx1-ubyte.gz to data/FashionMNIST/raw\n",
            "\n",
            "Processing...\n",
            "Done!\n",
            "\n",
            "/Users/elizabethjohnson/Gits/pytorch_templates/env/lib/python3.7/site-packages/torchvision/datasets/mnist.py:502: UserWarning: The given NumPy array is not writeable, and PyTorch does not support non-writeable tensors. This means you can write to the underlying (supposedly non-writeable) NumPy array using the tensor. You may want to copy the array to protect its data or make it writeable before converting it to a tensor. This type of warning will be suppressed for the rest of this program. (Triggered internally at  ../torch/csrc/utils/tensor_numpy.cpp:143.)\n",
            "  return torch.from_numpy(parsed.astype(m[2], copy=False)).view(*s)\n"
          ]
        }
      ],
      "source": [
        "import torch\n",
        "from torch.utils.data import Dataset\n",
        "from torchvision import datasets\n",
        "from torchvision.transforms import ToTensor, Lambda\n",
        "import matplotlib.pyplot as plt\n",
        "\n",
        "\n",
        "training_data = datasets.FashionMNIST(\n",
        "    root=\"data\",\n",
        "    train=True,\n",
        "    download=True,\n",
        "    transform=ToTensor()\n",
        ")\n",
        "\n",
        "test_data = datasets.FashionMNIST(\n",
        "    root=\"data\",\n",
        "    train=False,\n",
        "    download=True,\n",
        "    transform=ToTensor()\n",
        ")"
      ]
    },
    {
      "cell_type": "markdown",
      "metadata": {},
      "source": [
        "Iterating and Visualizing the Dataset\n",
        "-----------------\n",
        "\n",
        "We can index ``Datasets`` manually like a list: ``training_data[index]``. \n",
        "We use ``matplotlib`` to visualize some samples in our training data.\n",
        "\n"
      ]
    },
    {
      "cell_type": "code",
      "execution_count": 4,
      "metadata": {
        "collapsed": false
      },
      "outputs": [
        {
          "data": {
            "image/png": "[encoded data removed]",
            "image/svg+xml": "<?xml version=\"1.0\" encoding=\"utf-8\" standalone=\"no\"?>\n<!DOCTYPE svg PUBLIC \"-//W3C//DTD SVG 1.1//EN\"\n  \"http://www.w3.org/Graphics/SVG/1.1/DTD/svg11.dtd\">\n<svg height=\"464.398125pt\" version=\"1.1\" viewBox=\"0 0 457.411765 464.398125\" width=\"457.411765pt\" xmlns=\"http://www.w3.org/2000/svg\" xmlns:xlink=\"http://www.w3.org/1999/xlink\">\n <metadata>\n  <rdf:RDF xmlns:cc=\"http://creativecommons.org/ns#\" xmlns:dc=\"http://purl.org/dc/elements/1.1/\" xmlns:rdf=\"http://www.w3.org/1999/02/22-rdf-syntax-ns#\">\n   <cc:Work>\n    <dc:type rdf:resource=\"http://purl.org/dc/dcmitype/StillImage\"/>\n    <dc:date>2021-04-26T17:22:42.502099</dc:date>\n    <dc:format>image/svg+xml</dc:format>\n    <dc:creator>\n     <cc:Agent>\n      <dc:title>Matplotlib v3.4.1, https://matplotlib.org/</dc:title>\n     </cc:Agent>\n    </dc:creator>\n   </cc:Work>\n  </rdf:RDF>\n </metadata>\n <defs>\n  <style type=\"text/css\">*{stroke-linecap:butt;stroke-linejoin:round;}</style>\n </defs>\n <g id=\"figure_1\">\n  <g id=\"patch_1\">\n   <path d=\"M 0 464.398125 \nL 457.411765 464.398125 \nL 457.411765 0 \nL 0 0 \nz\n\" style=\"fill:none;\"/>\n  </g>\n  <g id=\"axes_1\">\n   <g clip-path=\"url(#pdd0c8d8755)\">\n    <image height=\"128\" id=\"imagea1cd70b718\" transform=\"scale(1 -1)translate(0 -128)\" width=\"128\" x=\"7.2\" xlink:href=\"data:image/png;base64,\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\" y=\"-22.224007\"/>\n   </g>\n   <g id=\"text_1\">\n    <!-- Bag -->\n    <g transform=\"translate(59.550441 16.318125)scale(0.12 -0.12)\">\n     <defs>\n      <path d=\"M 1259 2228 \nL 1259 519 \nL 2272 519 \nQ 2781 519 3026 730 \nQ 3272 941 3272 1375 \nQ 3272 1813 3026 2020 \nQ 2781 2228 2272 2228 \nL 1259 2228 \nz\nM 1259 4147 \nL 1259 2741 \nL 2194 2741 \nQ 2656 2741 2882 2914 \nQ 3109 3088 3109 3444 \nQ 3109 3797 2882 3972 \nQ 2656 4147 2194 4147 \nL 1259 4147 \nz\nM 628 4666 \nL 2241 4666 \nQ 2963 4666 3353 4366 \nQ 3744 4066 3744 3513 \nQ 3744 3084 3544 2831 \nQ 3344 2578 2956 2516 \nQ 3422 2416 3680 2098 \nQ 3938 1781 3938 1306 \nQ 3938 681 3513 340 \nQ 3088 0 2303 0 \nL 628 0 \nL 628 4666 \nz\n\" id=\"DejaVuSans-42\" transform=\"scale(0.015625)\"/>\n      <path d=\"M 2194 1759 \nQ 1497 1759 1228 1600 \nQ 959 1441 959 1056 \nQ 959 750 1161 570 \nQ 1363 391 1709 391 \nQ 2188 391 2477 730 \nQ 2766 1069 2766 1631 \nL 2766 1759 \nL 2194 1759 \nz\nM 3341 1997 \nL 3341 0 \nL 2766 0 \nL 2766 531 \nQ 2569 213 2275 61 \nQ 1981 -91 1556 -91 \nQ 1019 -91 701 211 \nQ 384 513 384 1019 \nQ 384 1609 779 1909 \nQ 1175 2209 1959 2209 \nL 2766 2209 \nL 2766 2266 \nQ 2766 2663 2505 2880 \nQ 2244 3097 1772 3097 \nQ 1472 3097 1187 3025 \nQ 903 2953 641 2809 \nL 641 3341 \nQ 956 3463 1253 3523 \nQ 1550 3584 1831 3584 \nQ 2591 3584 2966 3190 \nQ 3341 2797 3341 1997 \nz\n\" id=\"DejaVuSans-61\" transform=\"scale(0.015625)\"/>\n      <path d=\"M 2906 1791 \nQ 2906 2416 2648 2759 \nQ 2391 3103 1925 3103 \nQ 1463 3103 1205 2759 \nQ 947 2416 947 1791 \nQ 947 1169 1205 825 \nQ 1463 481 1925 481 \nQ 2391 481 2648 825 \nQ 2906 1169 2906 1791 \nz\nM 3481 434 \nQ 3481 -459 3084 -895 \nQ 2688 -1331 1869 -1331 \nQ 1566 -1331 1297 -1286 \nQ 1028 -1241 775 -1147 \nL 775 -588 \nQ 1028 -725 1275 -790 \nQ 1522 -856 1778 -856 \nQ 2344 -856 2625 -561 \nQ 2906 -266 2906 331 \nL 2906 616 \nQ 2728 306 2450 153 \nQ 2172 0 1784 0 \nQ 1141 0 747 490 \nQ 353 981 353 1791 \nQ 353 2603 747 3093 \nQ 1141 3584 1784 3584 \nQ 2172 3584 2450 3431 \nQ 2728 3278 2906 2969 \nL 2906 3500 \nL 3481 3500 \nL 3481 434 \nz\n\" id=\"DejaVuSans-67\" transform=\"scale(0.015625)\"/>\n     </defs>\n     <use xlink:href=\"#DejaVuSans-42\"/>\n     <use x=\"68.603516\" xlink:href=\"#DejaVuSans-61\"/>\n     <use x=\"129.882812\" xlink:href=\"#DejaVuSans-67\"/>\n    </g>\n   </g>\n  </g>\n  <g id=\"axes_2\">\n   <g clip-path=\"url(#p791e1e31c3)\">\n    <image height=\"128\" id=\"image853922ea5d\" transform=\"scale(1 -1)translate(0 -128)\" width=\"128\" x=\"164.752941\" xlink:href=\"data:image/png;base64,\niVBORw0KGgoAAAANSUhEUgAAAIAAAACACAYAAADDPmHLAAAIs0lEQVR4nO2duWtXWxDHJ+77vu9LEBXFGC2EKJJCIRaKoI2ljf+DYpXWwkoL7bQQFazUwsYFBFeiosY9JnGJW9z35bVvvt+vL/f9uHnxMfPp5jDe3MQv5wwzc+ZWmdkvS8LSq6dfIOlZUgDBSQEEJwUQnD5lPah379601quX19e3b98KPWv37t3OHj58OPk0NDQ4u7W1lXyuXr3q7J8/f5LPiBEjaO3t27f/aJuZ9evXz9lr1qwhn46ODmcfOXKEfBobG2kN6dOH/5vwd1G/WxFyBwhOCiA4KYDgVNkfmAj69cu/kjrfzpw54+xTp06Rz/jx4539/Plz8qmurqa1lpYWZ3/9+pV83r175+zJkyeTz+bNm5398uVL8pk1axat/ZfkDhCcFEBwUgDBSQEEp7RE0Pr162mttrbW2SpZs2fPHlq7dOmSs9+8eUM+hw8fdvb8+fPJB4PJIUOGkI8K8MaNG+dsFTz++PHD2U1NTeSzc+dOZ2Py6Hds27bN2V++fCGfkydPOvvixYuFno3kDhCcFEBwUgDBKS0RhOe2GccA8gWqqmjt+PHjzm5rayOfmTNnOrt///5d/ix1TqtzGWMHLGqZmY0ePdrZKk7BmOfz58/ks2vXLlrD4hMmncz4711fX08+RcgdIDgpgOCkAIKTAghOaYmgx48f09qoUaOcrbpvampqaG3s2LHOfvr0Kflgtw8mb8w4gfLkyRPymTdvHq1hEKg6gt6/f+/szs5O8hk6dKiz58yZQz5Lly6ltfb2dmffvn2bfM6ePUtrlZA7QHBSAMFJAQSntBhAnYHYpTN79mzy2bhxI609evTI2XjempkNGDDA2arQNGbMGP2yf0N13OLvcufOHfIZPHiwswcNGkQ+mGR68eIF+WzZsoXW9u/f7+wrV66QT1nkDhCcFEBwUgDBSQEEp7QgcOLEibSGQQ+2aZuZrV27ltawavfhwwfywSBMXU17/fq1s1X3j3o2Vt/69u1LPpMmTXL2q1evyKe5udnZdXV15LN48WJaww4kFcxikqlScgcITgogOCmA4KQAglNaEKiCqe/fvztbZcIWLlxIazdu3Ojy2QMHDnS2ysThPAKV9cPKnxm3fKu2MQxCVVs2zjVQbWPqnRDMeqpnV0ruAMFJAQQnBRCc0mIA1d6NZ7fq7FFdMpgwunbtGvng+a7awvHsVmd5kfk706ZNIx+sWKqOJJwZoNq7VVyAMwPu3r1LPmrWQCXkDhCcFEBwUgDBSQEEp7QgUFXasGKlWrBVYIZJDhVgfvr0ydlF7gaqgE/d18Mkz8ePH8kHgzA17OnBgwfOxgqima6Q4jvNmDGDfDBZVSm5AwQnBRCcFEBwSosBpk6dSmvYkaOuWI0cOZLW8AqXup+P18eUD8YJWEAy07EL+mFRy4znDak4BbuEVJygkmPPnj1z9oIFC8jn/PnztFYJuQMEJwUQnBRAcFIAwak4CMSkhmpdxvZmFSiqzhasIqqWb6ysqYnimBxSPqqTCJMsGMyamQ0bNszZKqGEz1YzFFQV8d69e85Wiagi9x6LkDtAcFIAwUkBBKfiGADPs8uXL5MPFnr27dtHPps2baI1TA6pBA52yqovkuHPVx05qhiFZ74a1oyDIlVCB4tKRTt5sVNZDcI+cOBAoWd1Re4AwUkBBCcFEJwUQHBKqwbu2LGD1vbu3etsldBQAdbNmzedra5GYZJF+WClTwVhag2vsKluI6wQqmogJrCwOmmmv0aCbfCqinrw4EFaq4TcAYKTAghOCiA4KYDgdOt8AKxqqfYvVdVSbVoITh5XwRRW/1QwpwKsrn6WGWf5VCYSn63a1nCiuhn/ndQ9wPv378t3/bfkDhCcFEBwUgDBKS0GUEkOTISo81YNYcTkELaAm5l1dHR0+U54Px/v9P8OPN9VsgorhmrWEMYFKgZScQHGQMqnLHIHCE4KIDgpgOCkAIJTWhCo2qIxMFLJIvU5GLx3p5IsGJipz9GoCd6ImrqNd/MwmDTjxJNK1mDbmEJ9DgYrm2UlfRS5AwQnBRCcFEBwSosBVLIEz3yVLFGfRcUEkhoyjWe+OicxgaKuhhUZFq2uj+H5rt4Rz/IifyMz7lLCz+SWSe4AwUkBBCcFEJwUQHC6tSMIkzxqUGN7ezutYQJHJVTa2tqcrQIsDN7UsCd1NxCrcS0tLeSD8xHUvUP8+arTacKECbSGlc7q6mryweD19OnT5FOE3AGCkwIITgogON1aDMIOHDXwUM3NwYSNejZeM1Mdv/gcVbBR5ys+WxWV1NBHBBNKKul0/fp1WsPik4qv1DW7SsgdIDgpgOCkAIKTAghOaUGgArtd6uvryQevj5kV++Qr+qhEDHYWqaqeGl6JySmcV6BQ18c6OzudjcMlzTihZcaf0mtubiafpqamLt+pCLkDBCcFEJwUQHBSAMHp1iAQJ3yqqd8qE4gVMjXICe/mNTQ0kA8GiipQq62tpTX8TNvRo0fJByuLas4BBq+qdf3EiRO0hhlEVcUsi9wBgpMCCE4KIDgVxwA4GFFVurBVW3W/1NXV0VqRSteqVauc3draSj44cLGxsZF8bt26RWtFvsaB3U7Lli0jH6ziqWtwq1evpjX8W+Jn9Mokd4DgpACCkwIITgogOBUHgSroQ86dO+fsdevWkc/y5ctpraamxtnq02pY/VNVPRzKpCZ6q98D29DVMMcpU6b8o23GQaD6zMuxY8doDSukqpWtLHIHCE4KIDgpgOBUmVnXh3kPM336dFrD61rq+hYWf4pcAzPjIo66doYzgubOnUs+S5Yscbb6tF5PkztAcFIAwUkBBCcFEJxu7Qgqi4cPH9IaVva2b9/e5b9TQxnVkKpFixY5e+XKleSDyaKtW7eSz58Y9CG5AwQnBRCcFEBw/heJoCIcOnSI1lasWOFslfTBr4OYcZIHu5vNzC5cuODsDRs2FHrPP43cAYKTAghOCiA4KYDg/AUoKj6w0Zh/1QAAAABJRU5ErkJggg==\" y=\"-22.224007\"/>\n   </g>\n   <g id=\"text_2\">\n    <!-- Coat -->\n    <g transform=\"translate(214.815882 16.318125)scale(0.12 -0.12)\">\n     <defs>\n      <path d=\"M 4122 4306 \nL 4122 3641 \nQ 3803 3938 3442 4084 \nQ 3081 4231 2675 4231 \nQ 1875 4231 1450 3742 \nQ 1025 3253 1025 2328 \nQ 1025 1406 1450 917 \nQ 1875 428 2675 428 \nQ 3081 428 3442 575 \nQ 3803 722 4122 1019 \nL 4122 359 \nQ 3791 134 3420 21 \nQ 3050 -91 2638 -91 \nQ 1578 -91 968 557 \nQ 359 1206 359 2328 \nQ 359 3453 968 4101 \nQ 1578 4750 2638 4750 \nQ 3056 4750 3426 4639 \nQ 3797 4528 4122 4306 \nz\n\" id=\"DejaVuSans-43\" transform=\"scale(0.015625)\"/>\n      <path d=\"M 1959 3097 \nQ 1497 3097 1228 2736 \nQ 959 2375 959 1747 \nQ 959 1119 1226 758 \nQ 1494 397 1959 397 \nQ 2419 397 2687 759 \nQ 2956 1122 2956 1747 \nQ 2956 2369 2687 2733 \nQ 2419 3097 1959 3097 \nz\nM 1959 3584 \nQ 2709 3584 3137 3096 \nQ 3566 2609 3566 1747 \nQ 3566 888 3137 398 \nQ 2709 -91 1959 -91 \nQ 1206 -91 779 398 \nQ 353 888 353 1747 \nQ 353 2609 779 3096 \nQ 1206 3584 1959 3584 \nz\n\" id=\"DejaVuSans-6f\" transform=\"scale(0.015625)\"/>\n      <path d=\"M 1172 4494 \nL 1172 3500 \nL 2356 3500 \nL 2356 3053 \nL 1172 3053 \nL 1172 1153 \nQ 1172 725 1289 603 \nQ 1406 481 1766 481 \nL 2356 481 \nL 2356 0 \nL 1766 0 \nQ 1100 0 847 248 \nQ 594 497 594 1153 \nL 594 3053 \nL 172 3053 \nL 172 3500 \nL 594 3500 \nL 594 4494 \nL 1172 4494 \nz\n\" id=\"DejaVuSans-74\" transform=\"scale(0.015625)\"/>\n     </defs>\n     <use xlink:href=\"#DejaVuSans-43\"/>\n     <use x=\"69.824219\" xlink:href=\"#DejaVuSans-6f\"/>\n     <use x=\"131.005859\" xlink:href=\"#DejaVuSans-61\"/>\n     <use x=\"192.285156\" xlink:href=\"#DejaVuSans-74\"/>\n    </g>\n   </g>\n  </g>\n  <g id=\"axes_3\">\n   <g clip-path=\"url(#pab76b44b85)\">\n    <image height=\"128\" id=\"imagedbd69231b4\" transform=\"scale(1 -1)translate(0 -128)\" width=\"128\" x=\"322.305882\" xlink:href=\"data:image/png;base64,\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\" y=\"-22.224007\"/>\n   </g>\n   <g id=\"text_3\">\n    <!-- Coat -->\n    <g transform=\"translate(372.368824 16.318125)scale(0.12 -0.12)\">\n     <use xlink:href=\"#DejaVuSans-43\"/>\n     <use x=\"69.824219\" xlink:href=\"#DejaVuSans-6f\"/>\n     <use x=\"131.005859\" xlink:href=\"#DejaVuSans-61\"/>\n     <use x=\"192.285156\" xlink:href=\"#DejaVuSans-74\"/>\n    </g>\n   </g>\n  </g>\n  <g id=\"axes_4\">\n   <g clip-path=\"url(#p0e9229dec9)\">\n    <image height=\"128\" id=\"image256d017c99\" transform=\"scale(1 -1)translate(0 -128)\" width=\"128\" x=\"7.2\" xlink:href=\"data:image/png;base64,\niVBORw0KGgoAAAANSUhEUgAAAIAAAACACAYAAADDPmHLAAAFaUlEQVR4nO2cOUstTRCG67jvK4oLBmrgEhmYGBmZGokoJgoGioIIJiImBmJ4MfUn6L8Q0cBARXBBBHFD3Pddb9xV9XkGufcK3/s+WTU1Yx956CmqeyYmIp9CYEn46QmQn4UCgEMBwKEA4FAAcCgAOBQAHAoADgUAhwKAQwHAoQDgUABwKAA4FAAcCgAOBQCHAoBDAcChAOBQAHAoADgUABwKAA4FAIcCgEMBwKEA4FAAcCgAOBQAnKS/efP6+vogrqurMzn5+flmLC0t7ctYRCQjIyOIPz/tZw6en5+D+OTkxORcX1+bsZ2dnS9jEZGnpycz9qeIxWJfxlHR/xPvf8QVABwKAA4FAIcCgBMT5yNRHR0dQTwwMGAuTEgI3Xl4eDA5t7e3QewVYcfHx2bs9PQ0iM/OzkzOxcVFEOuCT8QWisnJySYnKyvLjBUUFHx5HxGRt7e3IL6/vzc529vbQbyxsWFy9G/913AFAIcCgEMBwIl1dnaaGqCmpiaId3d3zYWrq6tBfH5+bnJ0k+Xj48PkZGdnm7HCwsIgzsvLi3tdSkqKyXl9fQ3izMzMuHMUsfWM10DRz3zv3hUVFUEcpaElYud9d3dncnRdtL+/b3IODw/j3ocrADgUABwKAA4FACfW2tpqKpyioqIg9pocubm5QVxWVmZy9Fhtba3JKS0tNWO6YaObTl6Oh1e8RUE3ebwm18vLSxB7zaqVlZUg3traMjnedbqg9n6HLjp14Swikp6eHsRzc3MmhysAOBQAHAoAjrsZ1NvbG8Q9PT3mwqqqqiBOSrKHi/SGjY5F/JM1+gSM9wzUzRIvR29G6WeiiN/AeX9/D+LExESTo8e8369zvPsUFxebsaOjoyDe29szObqB5W2qHRwcBPHCwoLJ4QoADgUAhwKAQwHAcYvAKJSXlwdxd3e3yWlpaQni6upqk3N5eWnGrq6uglgXfCJ2909fI+LvImp0Q8fDawR5O5vxcnRxKeIXpnqH0NtF1KeWvPno+/z69cvkcAUAhwKAQwHAicViMVMD6IaF3hz5Ls3NzWZscnLSjOnNKO+0i56Ttxmin4u6wfJf6LpEP29Fom1GRfk/eq996Wf+zc2NydG1gzefysrKIB4cHDQ5XAHAoQDgUABwKAA4kRpBXqESZTfsu+/QT0xMBPH4+LjJWV9fD2KvyaKLJ2/nzztttLm5GcQ5OTkmRzeHvGaNblZ5c/TQc/L+/3r30/sd+rRVW1ub/VuRZkT+t1AAcCgAOBQAnG/vBpobRShUvPf3ouzGjY2NmbG+vr4g9nbDdEfP68R51+mCztsNfHx8jHtvXfR53zDw/r4uVqPMMTU11eToTmBJSYnJ4QoADgUAhwKA88dqgG9PIELt4KF36JaXl02OfpZ6p4+8HUL9PPe+faBfl/NecdNz9GoA76i4xjsRpec4Pz9vcnRDa3Z21uRwBQCHAoBDAcChAOD81a+FR+G77/Dr9wz1u4oiIiMjI0E8NTVlcrzrdEGlP/goItLU1BTEMzMzJke/Y+l9KHNxcdGM9ff3B7HXZPLeF9Ssra3FzeEKAA4FAIcCgPPjjaB/iX62ioi0t7ebscbGxiD2NoOWlpaC2DvtMzQ0FMTe8fYoNDQ0mLHh4eEg9k4kdXV1BbFXS3AFAIcCgEMBwKEA4EAVgd9ldHTUjOlvHUxPT5ucKI2Yn4YrADgUABwKAA5rAHC4AoBDAcChAOBQAHAoADgUABwKAA4FAIcCgEMBwKEA4FAAcCgAOBQAHAoADgUAhwKAQwHAoQDgUABwKAA4FAAcCgAOBQCHAoBDAcChAOBQAHAoADgUABwKAA4FAIcCgEMBwKEA4FAAcH4DMECxu/PIDFwAAAAASUVORK5CYII=\" y=\"-175.711066\"/>\n   </g>\n   <g id=\"text_4\">\n    <!-- Sneaker -->\n    <g transform=\"translate(46.757316 169.805184)scale(0.12 -0.12)\">\n     <defs>\n      <path d=\"M 3425 4513 \nL 3425 3897 \nQ 3066 4069 2747 4153 \nQ 2428 4238 2131 4238 \nQ 1616 4238 1336 4038 \nQ 1056 3838 1056 3469 \nQ 1056 3159 1242 3001 \nQ 1428 2844 1947 2747 \nL 2328 2669 \nQ 3034 2534 3370 2195 \nQ 3706 1856 3706 1288 \nQ 3706 609 3251 259 \nQ 2797 -91 1919 -91 \nQ 1588 -91 1214 -16 \nQ 841 59 441 206 \nL 441 856 \nQ 825 641 1194 531 \nQ 1563 422 1919 422 \nQ 2459 422 2753 634 \nQ 3047 847 3047 1241 \nQ 3047 1584 2836 1778 \nQ 2625 1972 2144 2069 \nL 1759 2144 \nQ 1053 2284 737 2584 \nQ 422 2884 422 3419 \nQ 422 4038 858 4394 \nQ 1294 4750 2059 4750 \nQ 2388 4750 2728 4690 \nQ 3069 4631 3425 4513 \nz\n\" id=\"DejaVuSans-53\" transform=\"scale(0.015625)\"/>\n      <path d=\"M 3513 2113 \nL 3513 0 \nL 2938 0 \nL 2938 2094 \nQ 2938 2591 2744 2837 \nQ 2550 3084 2163 3084 \nQ 1697 3084 1428 2787 \nQ 1159 2491 1159 1978 \nL 1159 0 \nL 581 0 \nL 581 3500 \nL 1159 3500 \nL 1159 2956 \nQ 1366 3272 1645 3428 \nQ 1925 3584 2291 3584 \nQ 2894 3584 3203 3211 \nQ 3513 2838 3513 2113 \nz\n\" id=\"DejaVuSans-6e\" transform=\"scale(0.015625)\"/>\n      <path d=\"M 3597 1894 \nL 3597 1613 \nL 953 1613 \nQ 991 1019 1311 708 \nQ 1631 397 2203 397 \nQ 2534 397 2845 478 \nQ 3156 559 3463 722 \nL 3463 178 \nQ 3153 47 2828 -22 \nQ 2503 -91 2169 -91 \nQ 1331 -91 842 396 \nQ 353 884 353 1716 \nQ 353 2575 817 3079 \nQ 1281 3584 2069 3584 \nQ 2775 3584 3186 3129 \nQ 3597 2675 3597 1894 \nz\nM 3022 2063 \nQ 3016 2534 2758 2815 \nQ 2500 3097 2075 3097 \nQ 1594 3097 1305 2825 \nQ 1016 2553 972 2059 \nL 3022 2063 \nz\n\" id=\"DejaVuSans-65\" transform=\"scale(0.015625)\"/>\n      <path d=\"M 581 4863 \nL 1159 4863 \nL 1159 1991 \nL 2875 3500 \nL 3609 3500 \nL 1753 1863 \nL 3688 0 \nL 2938 0 \nL 1159 1709 \nL 1159 0 \nL 581 0 \nL 581 4863 \nz\n\" id=\"DejaVuSans-6b\" transform=\"scale(0.015625)\"/>\n      <path d=\"M 2631 2963 \nQ 2534 3019 2420 3045 \nQ 2306 3072 2169 3072 \nQ 1681 3072 1420 2755 \nQ 1159 2438 1159 1844 \nL 1159 0 \nL 581 0 \nL 581 3500 \nL 1159 3500 \nL 1159 2956 \nQ 1341 3275 1631 3429 \nQ 1922 3584 2338 3584 \nQ 2397 3584 2469 3576 \nQ 2541 3569 2628 3553 \nL 2631 2963 \nz\n\" id=\"DejaVuSans-72\" transform=\"scale(0.015625)\"/>\n     </defs>\n     <use xlink:href=\"#DejaVuSans-53\"/>\n     <use x=\"63.476562\" xlink:href=\"#DejaVuSans-6e\"/>\n     <use x=\"126.855469\" xlink:href=\"#DejaVuSans-65\"/>\n     <use x=\"188.378906\" xlink:href=\"#DejaVuSans-61\"/>\n     <use x=\"249.658203\" xlink:href=\"#DejaVuSans-6b\"/>\n     <use x=\"303.943359\" xlink:href=\"#DejaVuSans-65\"/>\n     <use x=\"365.466797\" xlink:href=\"#DejaVuSans-72\"/>\n    </g>\n   </g>\n  </g>\n  <g id=\"axes_5\">\n   <g clip-path=\"url(#pe20c7a149a)\">\n    <image height=\"128\" id=\"image31bf419a3d\" transform=\"scale(1 -1)translate(0 -128)\" width=\"128\" x=\"164.752941\" xlink:href=\"data:image/png;base64,\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\" y=\"-175.711066\"/>\n   </g>\n   <g id=\"text_5\">\n    <!-- Coat -->\n    <g transform=\"translate(214.815882 169.805184)scale(0.12 -0.12)\">\n     <use xlink:href=\"#DejaVuSans-43\"/>\n     <use x=\"69.824219\" xlink:href=\"#DejaVuSans-6f\"/>\n     <use x=\"131.005859\" xlink:href=\"#DejaVuSans-61\"/>\n     <use x=\"192.285156\" xlink:href=\"#DejaVuSans-74\"/>\n    </g>\n   </g>\n  </g>\n  <g id=\"axes_6\">\n   <g clip-path=\"url(#p396e66c65b)\">\n    <image height=\"128\" id=\"image1c9e905b23\" transform=\"scale(1 -1)translate(0 -128)\" width=\"128\" x=\"322.305882\" xlink:href=\"data:image/png;base64,\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\" y=\"-175.711066\"/>\n   </g>\n   <g id=\"text_6\">\n    <!-- Shirt -->\n    <g transform=\"translate(372.161636 169.805184)scale(0.12 -0.12)\">\n     <defs>\n      <path d=\"M 3513 2113 \nL 3513 0 \nL 2938 0 \nL 2938 2094 \nQ 2938 2591 2744 2837 \nQ 2550 3084 2163 3084 \nQ 1697 3084 1428 2787 \nQ 1159 2491 1159 1978 \nL 1159 0 \nL 581 0 \nL 581 4863 \nL 1159 4863 \nL 1159 2956 \nQ 1366 3272 1645 3428 \nQ 1925 3584 2291 3584 \nQ 2894 3584 3203 3211 \nQ 3513 2838 3513 2113 \nz\n\" id=\"DejaVuSans-68\" transform=\"scale(0.015625)\"/>\n      <path d=\"M 603 3500 \nL 1178 3500 \nL 1178 0 \nL 603 0 \nL 603 3500 \nz\nM 603 4863 \nL 1178 4863 \nL 1178 4134 \nL 603 4134 \nL 603 4863 \nz\n\" id=\"DejaVuSans-69\" transform=\"scale(0.015625)\"/>\n     </defs>\n     <use xlink:href=\"#DejaVuSans-53\"/>\n     <use x=\"63.476562\" xlink:href=\"#DejaVuSans-68\"/>\n     <use x=\"126.855469\" xlink:href=\"#DejaVuSans-69\"/>\n     <use x=\"154.638672\" xlink:href=\"#DejaVuSans-72\"/>\n     <use x=\"195.751953\" xlink:href=\"#DejaVuSans-74\"/>\n    </g>\n   </g>\n  </g>\n  <g id=\"axes_7\">\n   <g clip-path=\"url(#p014bff9896)\">\n    <image height=\"128\" id=\"image6b0ed5b592\" transform=\"scale(1 -1)translate(0 -128)\" width=\"128\" x=\"7.2\" xlink:href=\"data:image/png;base64,\niVBORw0KGgoAAAANSUhEUgAAAIAAAACACAYAAADDPmHLAAAFWUlEQVR4nO2duUosQRSGe1xmAWUcFETQMTMRBI00UPQBxOcwM/A99BXMzI0MxEQwc8lEEHUUDdx3Hbeb3KTOOfd20ffaU83/f9kpznQ18nvqp7bORVH0HWWQ0dFRJ56bm1M51WrVicvlssppbm5Wbd/f7p+kXq+rnKurKydeWVlROQsLC6otNJoa/QKksVAA4FAA4FAA4OSijJrAWq3mxH19fSrn4+PDiVtaWhL19fr6qtqamtz/nXw+r3LGx8edeGNjI1H/PwkrADgUADgUADjJBsUAKBaLTvzy8qJyPj8/Y58jJ32sNjneR5H2F62trSqnUCjE9t9oWAHAoQDAoQDAoQDAyawJlKbLMmrSzOVyudgcX+SzrGe3tbUlenaasAKAQwGAQwGAk1kPIBd2ko7lPljjuw+WLwmN8N+Q/CgUADgUADgUADiZMIHWbhtpsNI2gT79We8dGqwA4FAA4FAA4GTCA/T09Kg2uRj09vamcnx8wtfXV2z/1vExn8mhUqkUm9NoWAHAoQDAoQDAoQDAyYQJbG9vV21yNdAygSQeVgBwKABwKABwKABwMmECre3VcibOmuXzyflJkm4lSxNWAHAoAHAoAHAy4QEqlUpsjs85f5+VPysv6Y4g626h0GAFAIcCAIcCAIcCACcTJlBeyGSRdLuXdX5PXi6V9Izfzc1Not+lCSsAOBQAOBQAOJnwAD67fXzGaSsn6d1CEutSSuvyytBgBQCHAgCHAgCHAgAnE18MsXYEPTw8OPHj42PscyzDZxk8aTqt/qXB89m67nN7edqwAoBDAYBDAYCTiYkga3yXu22sM/xyzLXGYOtLYtIXvL+/x/7u/Pw8tv8QYQUAhwIAhwIAhwIAJ0gTeHR05MT9/f0qZ39/34mr1arKSbq9WxrKer2ucsrlshOvrq7GPnt7e1vljIyMqLY0YQUAhwIAhwIAhwIAJ0gTeHx87MTd3d0qZ2dnx4kHBgZUjlzVs2b9rC3n0ixas4ySzc1N1TY9Pe3E1mxho2EFAIcCAIcCACdID7C3t+fEExMTKmdtbc2JZ2ZmVE6xWHTi5+dnlWPtEpK+oKOjQ+XI8Xxra0vlSO/w9PSkchoNKwA4FAA4FAA4FAA4QZrAs7Oz2Bx59t4yYWNjY05smUBrkkeuIlpGcXd314kvLy///LK/OTw8jM1JG1YAcCgAcCgAcDLrAeTkkJwYiiLtAaxt2oVCQbX53C1Uq9WceHh4OPY3t7e3sTlpwwoADgUADgUADgUATpAm8OTkJDZHntk/ODhI1Je1I8jnTJ/s32fX0P39vf+LpQQrADgUADgUADhBegCfiaCpqSknnpycVDnyaJbPV0WiSO8etu4HGBoacmKfSyGtxahGwwoADgUADgUADgUATpAmUK60WZ9fs46LSe7u7pw4n8+rHGvSRx4Nsy6p6u3t/WscRdo8WvcMNBpWAHAoAHAoAHAoAHCCNIFy1cz6ZIxcffMxc9ZWr6TfBZaGznpOqVRyYq4GkuCgAMChAMAJ0gPIsdoaO7u6upzY2tkjx3Kf7d7W7yx8PiUn+7u4uPDqP01YAcChAMChAMChAMAJ0gRKrq+vVVtnZ6cTW8ZNmjBrsuh/GT4LaUzlBZghwAoADgUADgUATmY9gM9Ci9zebe0I8rkjyFqMkuO79Wy5YMTLoklwUADgUADgUADgZMIELi4uqrbBwUEnlp9xiyJt3qzze9bkkLxl3DKBlUrFia0JpaWlJdUWGqwA4FAA4FAA4OSiKIpfDckAs7Ozqm19fd2J5ZdI/oX5+XknXl5eVjmnp6f/rb+fghUAHAoAHAoAHAoAnF/5yrX+k8ZNLQAAAABJRU5ErkJggg==\" y=\"-329.198125\"/>\n   </g>\n   <g id=\"text_7\">\n    <!-- Dress -->\n    <g transform=\"translate(54.258254 323.292243)scale(0.12 -0.12)\">\n     <defs>\n      <path d=\"M 1259 4147 \nL 1259 519 \nL 2022 519 \nQ 2988 519 3436 956 \nQ 3884 1394 3884 2338 \nQ 3884 3275 3436 3711 \nQ 2988 4147 2022 4147 \nL 1259 4147 \nz\nM 628 4666 \nL 1925 4666 \nQ 3281 4666 3915 4102 \nQ 4550 3538 4550 2338 \nQ 4550 1131 3912 565 \nQ 3275 0 1925 0 \nL 628 0 \nL 628 4666 \nz\n\" id=\"DejaVuSans-44\" transform=\"scale(0.015625)\"/>\n      <path d=\"M 2834 3397 \nL 2834 2853 \nQ 2591 2978 2328 3040 \nQ 2066 3103 1784 3103 \nQ 1356 3103 1142 2972 \nQ 928 2841 928 2578 \nQ 928 2378 1081 2264 \nQ 1234 2150 1697 2047 \nL 1894 2003 \nQ 2506 1872 2764 1633 \nQ 3022 1394 3022 966 \nQ 3022 478 2636 193 \nQ 2250 -91 1575 -91 \nQ 1294 -91 989 -36 \nQ 684 19 347 128 \nL 347 722 \nQ 666 556 975 473 \nQ 1284 391 1588 391 \nQ 1994 391 2212 530 \nQ 2431 669 2431 922 \nQ 2431 1156 2273 1281 \nQ 2116 1406 1581 1522 \nL 1381 1569 \nQ 847 1681 609 1914 \nQ 372 2147 372 2553 \nQ 372 3047 722 3315 \nQ 1072 3584 1716 3584 \nQ 2034 3584 2315 3537 \nQ 2597 3491 2834 3397 \nz\n\" id=\"DejaVuSans-73\" transform=\"scale(0.015625)\"/>\n     </defs>\n     <use xlink:href=\"#DejaVuSans-44\"/>\n     <use x=\"77.001953\" xlink:href=\"#DejaVuSans-72\"/>\n     <use x=\"115.865234\" xlink:href=\"#DejaVuSans-65\"/>\n     <use x=\"177.388672\" xlink:href=\"#DejaVuSans-73\"/>\n     <use x=\"229.488281\" xlink:href=\"#DejaVuSans-73\"/>\n    </g>\n   </g>\n  </g>\n  <g id=\"axes_8\">\n   <g clip-path=\"url(#p702a746a43)\">\n    <image height=\"128\" id=\"image7a68978814\" transform=\"scale(1 -1)translate(0 -128)\" width=\"128\" x=\"164.752941\" xlink:href=\"data:image/png;base64,\niVBORw0KGgoAAAANSUhEUgAAAIAAAACACAYAAADDPmHLAAAFn0lEQVR4nO2duUpsXRCFt/MAKtdGBVucAwMDRdBI0EBfQiMTfQcfwVQwNPABNBBFTMwExURpZ1REaYd2auf5xruqwMPP/bE3a31ZFev2Oci6dYq996mT5Zz7dhlOPB5Xub6+Pi8+ODhQmrKyMi/u6elRmuXlZZUrKSnx4uPjY6U5OTnx4tfXV6U5OjpSuUwj+7dvgPwuNAA4NAA4NAA4WS6AJnBiYkLlRkZGvPjr60tpsrKy/sn1v7/1nyg72/+/s7q6qjSdnZ3/5Pr/J6wA4NAA4NAA4OT+9g1EYXNzU+XkM//x8VFp8vLyvPjj40NpcnP1n+D9/d2LrV6iqKjIi7e3t5UmBFgBwKEBwKEBwKEBwAmiCfyvizxysSYnJ0dp8vPzI13vp9+WDWcosAKAQwOAQwOAE0QPIBdmLKznu3wuy+e2c/ZGT5TrFxcX/6gJAVYAcGgAcGgAcGgAcIJoAtPptMrJhaDT01OlKS8v92Lr6HhdXZ3KFRYWenEymVSagoICL354eFCaEGAFAIcGAIcGACeIHsB6NWttbc2L9/f3leb5+dmLY7GY0iwtLalcR0eHF+/s7ChNf3+/F29tbSlNCLACgEMDgEMDgEMDgBNEE1hZWalycmZATU2N0tzd3Xnx5+en0lRVValcS0uLF1tHx5uamrzYOlkUAqwA4NAA4NAA4NAA4ATRBN7c3Kjcnz9/vHh2dlZp5E5fKpVSmtraWpWT7yLKnT/rnqz3F0OAFQAcGgAcGgCcIHoAa9aOPAZeX1+vNPJEkLVYY80MKC0t/fGe3t7evFgOrnTOufn5+R9/57dhBQCHBgCHBgCHBgAniCbQaspeXl68WO7OOaff37u4uFAaa6fx9vbWi613/+U9yaFRocAKAA4NAA4NAE4QPcD5+bnKyWeupYkyTPLq6krl5CKPNUNA5hKJhNKEACsAODQAODQAODQAOEE0gdZxbkmUYZLWIClr4KTMRRkcaTWYIcAKAA4NAA4NAE4QPYB1KlguxFiLNfJzrpbGOhEkn/lRehBrRlEIsAKAQwOAQwOAQwOAE0QTeHh4qHKyobMatSiNorXII3cDo0wZt3YjQ4AVABwaABwaABwaAJwgmkBrUqhswqxmLsounqWRDWWU1cKzs7Mfr5WJsAKAQwOAQwOAE0QPYD1fo/QA8lNu1ukf63NvsgewNHISOReCSJDQAODQAODQAOAE0QRau3jyHX45L8DKyXkBzumdP+d002dd/+npybzX0GAFAIcGAIcGACeIHsBCPrutGT1yQcf68oe10SNPAFkzgtbX1yPdZ6bDCgAODQAODQAODQBOsE3g+Pi4F1vTuuVCkPXlD2sX8f7+3osbGxuVJplMRrrPTIcVABwaABwaAJws55ze6QiAqakpL+7q6lIauRAUi8WUxlocenh48GKrT5BfI4nylZFMhBUAHBoAHBoAHBoAnGAXgqqrq71YnhByTjd4cmiUc/bJHtk8WsfJd3d3o9xmxsMKAA4NAA4NAA4NAE4QTWBFRYXKySbQ2umT/y6dTiuNNQBKfmPYOhZeUlLixdYk8igTRn8bVgBwaABwaABwgugBLi8vVW5ubs6La2pqlEY+u5ubm5XG+mycXByydgPHxsa8OITnvQUrADg0ADg0ADg0ADhBNIEWk5OTXjw0NKQ0i4uLXjw8PKw0GxsbKreysuLFvb29SnN9fR3pPjMdVgBwaABwaABwgu0BBgcHvTgejytNfX29F5eVlSmN9dqXPEnU2tqqNO3t7V4c6gkhVgBwaABwaABwaABwgm0CE4mEF4+OjiqNPM4tTxE559ze3p7KzczMeLE8IeScc93d3VFuM+NhBQCHBgCHBgAn2PkAkra2NpVraGjw4unp6Ui/NTAw4MULCwtKk0qlot9cBsMKAA4NAA4NAA4NAM5f6/u2W0kwkfwAAAAASUVORK5CYII=\" y=\"-329.198125\"/>\n   </g>\n   <g id=\"text_8\">\n    <!-- Dress -->\n    <g transform=\"translate(211.811195 323.292243)scale(0.12 -0.12)\">\n     <use xlink:href=\"#DejaVuSans-44\"/>\n     <use x=\"77.001953\" xlink:href=\"#DejaVuSans-72\"/>\n     <use x=\"115.865234\" xlink:href=\"#DejaVuSans-65\"/>\n     <use x=\"177.388672\" xlink:href=\"#DejaVuSans-73\"/>\n     <use x=\"229.488281\" xlink:href=\"#DejaVuSans-73\"/>\n    </g>\n   </g>\n  </g>\n  <g id=\"axes_9\">\n   <g clip-path=\"url(#pce0a1796da)\">\n    <image height=\"128\" id=\"image7855201a9f\" transform=\"scale(1 -1)translate(0 -128)\" width=\"128\" x=\"322.305882\" xlink:href=\"data:image/png;base64,\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\" y=\"-329.198125\"/>\n   </g>\n   <g id=\"text_9\">\n    <!-- Coat -->\n    <g transform=\"translate(372.368824 323.292243)scale(0.12 -0.12)\">\n     <use xlink:href=\"#DejaVuSans-43\"/>\n     <use x=\"69.824219\" xlink:href=\"#DejaVuSans-6f\"/>\n     <use x=\"131.005859\" xlink:href=\"#DejaVuSans-61\"/>\n     <use x=\"192.285156\" xlink:href=\"#DejaVuSans-74\"/>\n    </g>\n   </g>\n  </g>\n </g>\n <defs>\n  <clipPath id=\"pdd0c8d8755\">\n   <rect height=\"127.905882\" width=\"127.905882\" x=\"7.2\" y=\"22.318125\"/>\n  </clipPath>\n  <clipPath id=\"p791e1e31c3\">\n   <rect height=\"127.905882\" width=\"127.905882\" x=\"164.752941\" y=\"22.318125\"/>\n  </clipPath>\n  <clipPath id=\"pab76b44b85\">\n   <rect height=\"127.905882\" width=\"127.905882\" x=\"322.305882\" y=\"22.318125\"/>\n  </clipPath>\n  <clipPath id=\"p0e9229dec9\">\n   <rect height=\"127.905882\" width=\"127.905882\" x=\"7.2\" y=\"175.805184\"/>\n  </clipPath>\n  <clipPath id=\"pe20c7a149a\">\n   <rect height=\"127.905882\" width=\"127.905882\" x=\"164.752941\" y=\"175.805184\"/>\n  </clipPath>\n  <clipPath id=\"p396e66c65b\">\n   <rect height=\"127.905882\" width=\"127.905882\" x=\"322.305882\" y=\"175.805184\"/>\n  </clipPath>\n  <clipPath id=\"p014bff9896\">\n   <rect height=\"127.905882\" width=\"127.905882\" x=\"7.2\" y=\"329.292243\"/>\n  </clipPath>\n  <clipPath id=\"p702a746a43\">\n   <rect height=\"127.905882\" width=\"127.905882\" x=\"164.752941\" y=\"329.292243\"/>\n  </clipPath>\n  <clipPath id=\"pce0a1796da\">\n   <rect height=\"127.905882\" width=\"127.905882\" x=\"322.305882\" y=\"329.292243\"/>\n  </clipPath>\n </defs>\n</svg>\n",
            "text/plain": [
              "<Figure size 576x576 with 9 Axes>"
            ]
          },
          "metadata": {
            "needs_background": "light"
          },
          "output_type": "display_data"
        }
      ],
      "source": [
        "labels_map = {\n",
        "    0: \"T-Shirt\",\n",
        "    1: \"Trouser\",\n",
        "    2: \"Pullover\",\n",
        "    3: \"Dress\",\n",
        "    4: \"Coat\",\n",
        "    5: \"Sandal\",\n",
        "    6: \"Shirt\",\n",
        "    7: \"Sneaker\",\n",
        "    8: \"Bag\",\n",
        "    9: \"Ankle Boot\",\n",
        "}\n",
        "figure = plt.figure(figsize=(8, 8))\n",
        "cols, rows = 3, 3\n",
        "for i in range(1, cols * rows + 1):\n",
        "    sample_idx = torch.randint(len(training_data), size=(1,)).item()\n",
        "    img, label = training_data[sample_idx]\n",
        "    figure.add_subplot(rows, cols, i)\n",
        "    plt.title(labels_map[label])\n",
        "    plt.axis(\"off\")\n",
        "    plt.imshow(img.squeeze(), cmap=\"gray\")\n",
        "plt.show()"
      ]
    },
    {
      "cell_type": "markdown",
      "metadata": {},
      "source": [
        "..\n",
        " .. figure:: /_static/img/basics/fashion_mnist.png\n",
        "   :alt: fashion_mnist\n",
        "\n"
      ]
    },
    {
      "cell_type": "markdown",
      "metadata": {},
      "source": [
        "--------------\n",
        "\n",
        "\n"
      ]
    },
    {
      "cell_type": "markdown",
      "metadata": {},
      "source": [
        "Creating a Custom Dataset for your files\n",
        "---------------------------------------------------\n",
        "\n",
        "A custom Dataset class must implement three functions: `__init__`, `__len__`, and `__getitem__`. \n",
        "Take a look at this implementation; the FashionMNIST images are stored \n",
        "in a directory ``img_dir``, and their labels are stored separately in a CSV file ``annotations_file``. \n",
        "\n",
        "In the next sections, we'll break down what's happening in each of these functions.\n",
        "\n"
      ]
    },
    {
      "cell_type": "code",
      "execution_count": null,
      "metadata": {
        "collapsed": false
      },
      "outputs": [],
      "source": [
        "import os\n",
        "import pandas as pd\n",
        "from torchvision.io import read_image\n",
        "\n",
        "class CustomImageDataset(Dataset):\n",
        "    def __init__(self, annotations_file, img_dir, transform=None, target_transform=None):\n",
        "        self.img_labels = pd.read_csv(annotations_file)\n",
        "        self.img_dir = img_dir\n",
        "        self.transform = transform\n",
        "        self.target_transform = target_transform\n",
        "\n",
        "    def __len__(self):\n",
        "        return len(self.img_labels)\n",
        "\n",
        "    def __getitem__(self, idx):\n",
        "        img_path = os.path.join(self.img_dir, self.img_labels.iloc[idx, 0])\n",
        "        image = read_image(img_path)\n",
        "        label = self.img_labels.iloc[idx, 1]\n",
        "        if self.transform:\n",
        "            image = self.transform(image)\n",
        "        if self.target_transform:\n",
        "            label = self.target_transform(label)\n",
        "        sample = {\"image\": image, \"label\": label}\n",
        "        return sample"
      ]
    },
    {
      "cell_type": "markdown",
      "metadata": {},
      "source": [
        "__init__\n",
        "^^^^^^^^^^^^^^^^^^^^\n",
        "\n",
        "The __init__ function is run once when instantiating the Dataset object. We initialize\n",
        "the directory containing the images, the annotations file, and both transforms (covered \n",
        "in more detail in the next section). \n",
        "\n",
        "The labels.csv file looks like: ::\n",
        "\n",
        "    tshirt1.jpg, 0\n",
        "    tshirt2.jpg, 0\n",
        "    ......\n",
        "    ankleboot999.jpg, 9\n",
        "\n"
      ]
    },
    {
      "cell_type": "code",
      "execution_count": null,
      "metadata": {
        "collapsed": false
      },
      "outputs": [],
      "source": [
        "def __init__(self, annotations_file, img_dir, transform=None, target_transform=None):\n",
        "    self.img_labels = pd.read_csv(annotations_file)\n",
        "    self.img_dir = img_dir\n",
        "    self.transform = transform\n",
        "    self.target_transform = target_transform"
      ]
    },
    {
      "cell_type": "markdown",
      "metadata": {},
      "source": [
        "__len__\n",
        "^^^^^^^^^^^^^^^^^^^^\n",
        "\n",
        "The __len__ function returns the number of samples in our dataset.\n",
        "\n",
        "Example:\n",
        "\n"
      ]
    },
    {
      "cell_type": "code",
      "execution_count": null,
      "metadata": {
        "collapsed": false
      },
      "outputs": [],
      "source": [
        "def __len__(self):\n",
        "    return len(self.img_labels)"
      ]
    },
    {
      "cell_type": "markdown",
      "metadata": {},
      "source": [
        "__getitem__\n",
        "^^^^^^^^^^^^^^^^^^^^\n",
        "\n",
        "The __getitem__ function loads and returns a sample from the dataset at the given index ``idx``. \n",
        "Based on the index, it identifies the image's location on disk, converts that to a tensor using ``read_image``, retrieves the \n",
        "corresponding label from the csv data in ``self.img_labels``, calls the transform functions on them (if applicable), and returns the \n",
        "tensor image and corresponding label in a Python dict.\n",
        "\n"
      ]
    },
    {
      "cell_type": "code",
      "execution_count": null,
      "metadata": {
        "collapsed": false
      },
      "outputs": [],
      "source": [
        "def __getitem__(self, idx):\n",
        "    img_path = os.path.join(self.img_dir, self.img_labels.iloc[idx, 0])\n",
        "    image = read_image(img_path)\n",
        "    label = self.img_labels.iloc[idx, 1]\n",
        "    if self.transform:\n",
        "        image = self.transform(image)\n",
        "    if self.target_transform:\n",
        "        label = self.target_transform(label)\n",
        "    sample = {\"image\": image, \"label\": label}\n",
        "    return sample"
      ]
    },
    {
      "cell_type": "markdown",
      "metadata": {},
      "source": [
        "--------------\n",
        "\n",
        "\n"
      ]
    },
    {
      "cell_type": "markdown",
      "metadata": {},
      "source": [
        "Preparing your data for training with DataLoaders\n",
        "-------------------------------------------------\n",
        "The ``Dataset`` retrieves our dataset's features and labels one sample at a time. While training a model, we typically want to \n",
        "pass samples in \"minibatches\", reshuffle the data at every epoch to reduce model overfitting, and use Python's ``multiprocessing`` to\n",
        "speed up data retrieval.\n",
        "\n",
        "``DataLoader`` is an iterable that abstracts this complexity for us in an easy API.\n",
        "\n"
      ]
    },
    {
      "cell_type": "code",
      "execution_count": null,
      "metadata": {
        "collapsed": false
      },
      "outputs": [],
      "source": [
        "from torch.utils.data import DataLoader\n",
        "\n",
        "train_dataloader = DataLoader(training_data, batch_size=64, shuffle=True)\n",
        "test_dataloader = DataLoader(test_data, batch_size=64, shuffle=True)"
      ]
    },
    {
      "cell_type": "markdown",
      "metadata": {},
      "source": [
        "Iterate through the DataLoader\n",
        "--------------------------\n",
        "\n",
        "We have loaded that dataset into the ``Dataloader`` and can iterate through the dataset as needed.\n",
        "Each iteration below returns a batch of ``train_features`` and ``train_labels`` (containing ``batch_size=64`` features and labels respectively).\n",
        "Because we specified ``shuffle=True``, after we iterate over all batches the data is shuffled (for finer-grained control over \n",
        "the data loading order, take a look at `Samplers <https://pytorch.org/docs/stable/data.html#data-loading-order-and-sampler>`_).\n",
        "\n"
      ]
    },
    {
      "cell_type": "code",
      "execution_count": 1,
      "metadata": {
        "collapsed": false
      },
      "outputs": [
        {
          "ename": "NameError",
          "evalue": "name 'train_dataloader' is not defined",
          "output_type": "error",
          "traceback": [
            "\u001b[0;31m---------------------------------------------------------------------------\u001b[0m",
            "\u001b[0;31mNameError\u001b[0m                                 Traceback (most recent call last)",
            "\u001b[0;32m<ipython-input-1-735af703f83c>\u001b[0m in \u001b[0;36m<module>\u001b[0;34m\u001b[0m\n\u001b[1;32m      1\u001b[0m \u001b[0;31m# Display image and label.\u001b[0m\u001b[0;34m\u001b[0m\u001b[0;34m\u001b[0m\u001b[0;34m\u001b[0m\u001b[0m\n\u001b[0;32m----> 2\u001b[0;31m \u001b[0mtrain_features\u001b[0m\u001b[0;34m,\u001b[0m \u001b[0mtrain_labels\u001b[0m \u001b[0;34m=\u001b[0m \u001b[0mnext\u001b[0m\u001b[0;34m(\u001b[0m\u001b[0miter\u001b[0m\u001b[0;34m(\u001b[0m\u001b[0mtrain_dataloader\u001b[0m\u001b[0;34m)\u001b[0m\u001b[0;34m)\u001b[0m\u001b[0;34m\u001b[0m\u001b[0;34m\u001b[0m\u001b[0m\n\u001b[0m\u001b[1;32m      3\u001b[0m \u001b[0mprint\u001b[0m\u001b[0;34m(\u001b[0m\u001b[0;34mf\"Feature batch shape: {train_features.size()}\"\u001b[0m\u001b[0;34m)\u001b[0m\u001b[0;34m\u001b[0m\u001b[0;34m\u001b[0m\u001b[0m\n\u001b[1;32m      4\u001b[0m \u001b[0mprint\u001b[0m\u001b[0;34m(\u001b[0m\u001b[0;34mf\"Labels batch shape: {train_labels.size()}\"\u001b[0m\u001b[0;34m)\u001b[0m\u001b[0;34m\u001b[0m\u001b[0;34m\u001b[0m\u001b[0m\n\u001b[1;32m      5\u001b[0m \u001b[0mimg\u001b[0m \u001b[0;34m=\u001b[0m \u001b[0mtrain_features\u001b[0m\u001b[0;34m[\u001b[0m\u001b[0;36m0\u001b[0m\u001b[0;34m]\u001b[0m\u001b[0;34m.\u001b[0m\u001b[0msqueeze\u001b[0m\u001b[0;34m(\u001b[0m\u001b[0;34m)\u001b[0m\u001b[0;34m\u001b[0m\u001b[0;34m\u001b[0m\u001b[0m\n",
            "\u001b[0;31mNameError\u001b[0m: name 'train_dataloader' is not defined"
          ]
        }
      ],
      "source": [
        "# Display image and label.\n",
        "train_features, train_labels = next(iter(train_dataloader))\n",
        "print(f\"Feature batch shape: {train_features.size()}\")\n",
        "print(f\"Labels batch shape: {train_labels.size()}\")\n",
        "img = train_features[0].squeeze()\n",
        "label = train_labels[0]\n",
        "plt.imshow(img, cmap=\"gray\")\n",
        "plt.show()\n",
        "print(f\"Label: {label}\")"
      ]
    },
    {
      "cell_type": "markdown",
      "metadata": {},
      "source": [
        "--------------\n",
        "\n",
        "\n"
      ]
    },
    {
      "cell_type": "markdown",
      "metadata": {},
      "source": [
        "Further Reading\n",
        "--------------\n",
        "- `torch.utils.data API <https://pytorch.org/docs/stable/data.html>`_\n",
        "\n"
      ]
    }
  ],
  "metadata": {
    "kernelspec": {
      "display_name": "Python 3.7.3 ('env': venv)",
      "language": "python",
      "name": "python3"
    },
    "language_info": {
      "codemirror_mode": {
        "name": "ipython",
        "version": 3
      },
      "file_extension": ".py",
      "mimetype": "text/x-python",
      "name": "python",
      "nbconvert_exporter": "python",
      "pygments_lexer": "ipython3",
      "version": "3.7.3"
    },
    "metadata": {
      "interpreter": {
        "hash": "3d9ab1ecf7863cacca49140dc5d12678c9ac7023ed5298ad963742ce22222ce7"
      }
    },
    "vscode": {
      "interpreter": {
        "hash": "f0d07bcbf28a5dbc6dbc7eda7ae3c1bee3ce0f637fa87c4a11a83a2a0606e72f"
      }
    }
  },
  "nbformat": 4,
  "nbformat_minor": 0
}
