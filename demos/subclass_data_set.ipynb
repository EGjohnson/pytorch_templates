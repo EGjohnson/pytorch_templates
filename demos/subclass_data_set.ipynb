{
 "cells": [
  {
   "cell_type": "code",
   "execution_count": 1,
   "metadata": {},
   "outputs": [],
   "source": [
    "from torch.utils.data import Dataset"
   ]
  },
  {
   "cell_type": "code",
   "execution_count": null,
   "metadata": {},
   "outputs": [],
   "source": [
    "class mock_data(Dataset):\n",
    "    def __init__(self, length=100, transform=None):\n",
    "        self.x = 2*torch.ones(length,2)\n",
    "        self.y = torch.ones(length,1)\n",
    "        \n",
    "        \n",
    "    "
   ]
  }
 ],
 "metadata": {
  "kernelspec": {
   "display_name": "Python 3.7.3 ('env': venv)",
   "language": "python",
   "name": "python3"
  },
  "language_info": {
   "codemirror_mode": {
    "name": "ipython",
    "version": 3
   },
   "file_extension": ".py",
   "mimetype": "text/x-python",
   "name": "python",
   "nbconvert_exporter": "python",
   "pygments_lexer": "ipython3",
   "version": "3.7.3"
  },
  "orig_nbformat": 4,
  "vscode": {
   "interpreter": {
    "hash": "f0d07bcbf28a5dbc6dbc7eda7ae3c1bee3ce0f637fa87c4a11a83a2a0606e72f"
   }
  }
 },
 "nbformat": 4,
 "nbformat_minor": 2
}
